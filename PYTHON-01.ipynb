{
 "cells": [
  {
   "cell_type": "code",
   "execution_count": 1,
   "metadata": {},
   "outputs": [
    {
     "name": "stdout",
     "output_type": "stream",
     "text": [
      "Twinkle,  twinkle, little  star,\n",
      " \t How I wonder what you are! \n",
      " \t \t Up above the world so high,\n",
      " \t \t like a diamond in the sky,\n",
      " Twinkle,   twinkle, little star, \n",
      " \t How I wonder what you are!\n"
     ]
    }
   ],
   "source": [
    "print(\"Twinkle,  twinkle, little  star,\\n \\t How I wonder what you are! \\n \\t \\t Up above the world so high,\\n \\t \\t like a diamond in the sky,\\n Twinkle,   twinkle, little star, \\n \\t How I wonder what you are!\")"
   ]
  },
  {
   "cell_type": "code",
   "execution_count": 2,
   "metadata": {},
   "outputs": [
    {
     "name": "stdout",
     "output_type": "stream",
     "text": [
      "python version I'm using is \n",
      "\n",
      "3.7.4 (default, Aug  9 2019, 18:34:13) [MSC v.1915 64 bit (AMD64)]\n"
     ]
    }
   ],
   "source": [
    "import sys\n",
    "print(\"python version I'm using is \\n\")\n",
    "print(sys.version)"
   ]
  },
  {
   "cell_type": "code",
   "execution_count": 3,
   "metadata": {},
   "outputs": [
    {
     "name": "stdout",
     "output_type": "stream",
     "text": [
      "current date and time of the system:   2019-11-03 02:00:04.594327\n"
     ]
    }
   ],
   "source": [
    "from datetime import datetime\n",
    "current = datetime.now()\n",
    "print(\"current date and time of the system:  \",current)"
   ]
  },
  {
   "cell_type": "code",
   "execution_count": 4,
   "metadata": {},
   "outputs": [
    {
     "name": "stdout",
     "output_type": "stream",
     "text": [
      "Enter the radius:  44\n",
      "Area of the circle is:   6079.04\n"
     ]
    }
   ],
   "source": [
    "x=int(input(\"Enter the radius:  \"))\n",
    "pi=3.14\n",
    "area=pi*x*x\n",
    "print(\"Area of the circle is:  \",area)"
   ]
  },
  {
   "cell_type": "code",
   "execution_count": 5,
   "metadata": {},
   "outputs": [
    {
     "name": "stdout",
     "output_type": "stream",
     "text": [
      "Enter 1st no: 4\n",
      "Enter 2nd no: 5\n",
      "9\n"
     ]
    }
   ],
   "source": [
    "x=int(input(\"Enter 1st no: \"))\n",
    "y=int(input(\"Enter 2nd no: \"))\n",
    "c=x+y\n",
    "print(c)"
   ]
  },
  {
   "cell_type": "code",
   "execution_count": 7,
   "metadata": {},
   "outputs": [
    {
     "name": "stdout",
     "output_type": "stream",
     "text": [
      "first name:\n",
      "MAHNOOR\n",
      "last name:\n",
      "GHULAM RASOOL\n",
      "LOOSAR MALUHG ROONHAM\n"
     ]
    }
   ],
   "source": [
    "print(\"first name:\")\n",
    "first=input()[::-1]\n",
    "print(\"last name:\")\n",
    "last=input()[::-1]\n",
    "print(last + \" \" + first)\n"
   ]
  },
  {
   "cell_type": "code",
   "execution_count": null,
   "metadata": {},
   "outputs": [],
   "source": []
  }
 ],
 "metadata": {
  "kernelspec": {
   "display_name": "Python 3",
   "language": "python",
   "name": "python3"
  },
  "language_info": {
   "codemirror_mode": {
    "name": "ipython",
    "version": 3
   },
   "file_extension": ".py",
   "mimetype": "text/x-python",
   "name": "python",
   "nbconvert_exporter": "python",
   "pygments_lexer": "ipython3",
   "version": "3.7.4"
  }
 },
 "nbformat": 4,
 "nbformat_minor": 2
}
